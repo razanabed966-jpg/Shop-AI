{
 "cells": [
  {
   "cell_type": "code",
   "execution_count": 1,
   "id": "986a61f0",
   "metadata": {},
   "outputs": [],
   "source": [
    "import mysql.connector\n",
    "\n",
    "import pandas as pd\n",
    "\n",
    "connection_mydb = mysql.connector.connect(\n",
    "    host=\"localhost\",\n",
    "    user=\"root\",\n",
    "    password=\"\",\n",
    "    database=\"wp-ecommerce\"\n",
    ")\n",
    " \n",
    "cursor = connection_mydb.cursor(dictionary=True)"
   ]
  },
  {
   "cell_type": "code",
   "execution_count": 2,
   "id": "9bf6daa2",
   "metadata": {},
   "outputs": [],
   "source": [
    "def get_product_categories(product_id):\n",
    "    sql='''SELECT wp_term_relationships.object_id,wp_term_taxonomy.term_id\n",
    "            FROM  wp_term_relationships\n",
    "            INNER JOIN wp_term_taxonomy ON wp_term_relationships.term_taxonomy_id = wp_term_taxonomy.term_taxonomy_id\n",
    "            WHERE wp_term_taxonomy.taxonomy ='product_cat' and object_id=(%s)\n",
    "        '''\n",
    "    \n",
    "    param = (product_id, )\n",
    "    \n",
    "    cursor.execute(sql,param)\n",
    "    \n",
    "    results = cursor.fetchall()\n",
    "    \n",
    "    ar_ids=[]\n",
    "    \n",
    "    for row in results:\n",
    "        ar_ids.append(row['term_id'])\n",
    "    \n",
    "    return ar_ids"
   ]
  },
  {
   "cell_type": "code",
   "execution_count": 3,
   "id": "e3e9bbee",
   "metadata": {},
   "outputs": [
    {
     "data": {
      "text/plain": [
       "[79]"
      ]
     },
     "execution_count": 3,
     "metadata": {},
     "output_type": "execute_result"
    }
   ],
   "source": [
    "get_product_categories(56355)"
   ]
  },
  {
   "cell_type": "code",
   "execution_count": 4,
   "id": "4bdbf1bf",
   "metadata": {},
   "outputs": [
    {
     "data": {
      "text/plain": [
       "'مستحضرات تجميل'"
      ]
     },
     "execution_count": 4,
     "metadata": {},
     "output_type": "execute_result"
    }
   ],
   "source": [
    "def get_category_name_from_id(term_id):\n",
    "\n",
    "    sql='''SELECT name FROM wp_terms\n",
    "           LEFT JOIN wp_term_taxonomy \n",
    "           ON wp_terms.term_id = wp_term_taxonomy.term_id\n",
    "           WHERE wp_term_taxonomy.taxonomy = 'product_cat' and  wp_terms.term_id=(%s)\n",
    "        '''\n",
    "    param = (term_id, )\n",
    "    \n",
    "    cursor.execute(sql,param)\n",
    "    \n",
    "    results = cursor.fetchall()\n",
    "    if results != None and len(results) > 0:\n",
    "        return results[0]['name']  \n",
    "    \n",
    "    return \"Unknown Category\"\n",
    "\n",
    "get_category_name_from_id(79)"
   ]
  },
  {
   "cell_type": "code",
   "execution_count": 5,
   "id": "875083f5",
   "metadata": {},
   "outputs": [],
   "source": [
    "def construct_customers_data():\n",
    "    \n",
    "    sql = \"SELECT distinct(user_id) FROM wp_usermeta order by user_id \"\n",
    "    cursor.execute(sql)\n",
    "    users_results = cursor.fetchall()\n",
    "\n",
    "    df = pd.DataFrame(columns=['user_id', 'customer_id', 'country','age', 'gender', 'term_id', 'term_name', 'count_term_id'])\n",
    "    \n",
    "    for user in users_results:\n",
    "        \n",
    "        country = \"UNKNOWN\"\n",
    "        \n",
    "        age = 0\n",
    "        \n",
    "        gender = \"UNKNOWN\"\n",
    "        \n",
    "        user_id = user['user_id']\n",
    "        customer_id = 0\n",
    "        \n",
    "        sql = \"SELECT * FROM wp_usermeta WHERE user_id=(%s) and meta_key='country'\"\n",
    "        param = (user_id, )\n",
    "        cursor.execute(sql, param)\n",
    "        result = cursor.fetchall()\n",
    "        \n",
    "        if result != None and len(result) > 0:\n",
    "            country=result[0]['meta_value']\n",
    "        \n",
    "        sql = \"SELECT * FROM wp_usermeta WHERE user_id=(%s) and meta_key='age'\"\n",
    "        param = (user_id, )\n",
    "        cursor.execute(sql, param)\n",
    "        result = cursor.fetchall()\n",
    "        \n",
    "        if result != None and len(result) > 0:\n",
    "            age = result[0]['meta_value']\n",
    "        \n",
    "        sql = \"SELECT * FROM wp_usermeta WHERE user_id=(%s) and meta_key='gender'\"\n",
    "        param = (user_id, )\n",
    "        cursor.execute(sql, param)\n",
    "        result = cursor.fetchall()\n",
    "        if result != None and len(result) > 0:\n",
    "            gender = result[0]['meta_value']\n",
    "            \n",
    "        sql = \"SELECT * FROM wp_wc_customer_lookup  WHERE user_id=(%s) \"\n",
    "        param = (user_id, )\n",
    "        cursor.execute(sql, param)\n",
    "        result = cursor.fetchall()\n",
    "        if result != None and len(result) > 0:\n",
    "            customer_id = result[0]['customer_id']  \n",
    "        \n",
    "        sql=\"SELECT * from wp_wc_order_product_lookup where customer_id=(%s)\"\n",
    "        param = (customer_id, )\n",
    "        cursor.execute(sql, param)\n",
    "        results_orders = cursor.fetchall()\n",
    "        \n",
    "        categories_list = []\n",
    "        \n",
    "        products_list = []\n",
    "        \n",
    "        term_id = 0\n",
    "        \n",
    "        term_name = \"\"\n",
    "        \n",
    "        count_term_id = 0\n",
    "\n",
    "        for row in results_orders:\n",
    "            customer_id = row['customer_id']\n",
    "            product_id = row['product_id']\n",
    "            \n",
    "            term_ids = get_product_categories(product_id)\n",
    "            for term_id in term_ids:\n",
    "                add_1_category_customer(categories_list, customer_id, term_id)\n",
    "\n",
    "        for k in range(len(categories_list)):\n",
    "            for m in range(k+1, len(categories_list)):\n",
    "                if (categories_list[k]['count'] < categories_list[m]['count']):\n",
    "                    z = categories_list[k]\n",
    "                    categories_list[k] = categories_list[m]\n",
    "                    categories_list[m] = z\n",
    "\n",
    "        if len(categories_list) > 0:\n",
    "            term_id = categories_list[0]['term_id']\n",
    "            count_term_id = categories_list[0]['count']\n",
    "            term_name = get_category_name_from_id(term_id)\n",
    "            x = {\n",
    "                    \"user_id\":user_id,\n",
    "                    \"customer_id\":customer_id,\n",
    "                    \"country\":country,\n",
    "                    \"age\":age,\n",
    "                    \"gender\":gender,\n",
    "                    'term_id':term_id,\n",
    "                    'term_name':term_name,\n",
    "                    'count_term_id':count_term_id\n",
    "                }\n",
    "            df = pd.concat([df, pd.DataFrame([x])], ignore_index=True)\n",
    "    \n",
    "    return df"
   ]
  },
  {
   "cell_type": "code",
   "execution_count": 6,
   "id": "3fb7f5e1",
   "metadata": {},
   "outputs": [],
   "source": [
    "def add_1_category_customer(category_customer_list, customer_id, term_id):\n",
    "    item = find_item(category_customer_list,customer_id, term_id)\n",
    "    item['count'] += 1\n",
    "\n",
    "def find_item(category_customer_list, customer_id, term_id):\n",
    "    \n",
    "    for item in category_customer_list:\n",
    "        if item['customer_id'] == customer_id and item['term_id'] == term_id:\n",
    "            return item\n",
    "    \n",
    "    item = {\"customer_id\":customer_id,\"term_id\":term_id,\"count\":0}\n",
    "    category_customer_list.append(item)\n",
    "    \n",
    "    return item"
   ]
  },
  {
   "cell_type": "code",
   "execution_count": 7,
   "id": "0b9f4eef",
   "metadata": {},
   "outputs": [
    {
     "data": {
      "text/html": [
       "<div>\n",
       "<style scoped>\n",
       "    .dataframe tbody tr th:only-of-type {\n",
       "        vertical-align: middle;\n",
       "    }\n",
       "\n",
       "    .dataframe tbody tr th {\n",
       "        vertical-align: top;\n",
       "    }\n",
       "\n",
       "    .dataframe thead th {\n",
       "        text-align: right;\n",
       "    }\n",
       "</style>\n",
       "<table border=\"1\" class=\"dataframe\">\n",
       "  <thead>\n",
       "    <tr style=\"text-align: right;\">\n",
       "      <th></th>\n",
       "      <th>user_id</th>\n",
       "      <th>customer_id</th>\n",
       "      <th>country</th>\n",
       "      <th>age</th>\n",
       "      <th>gender</th>\n",
       "      <th>term_id</th>\n",
       "      <th>term_name</th>\n",
       "      <th>count_term_id</th>\n",
       "    </tr>\n",
       "  </thead>\n",
       "  <tbody>\n",
       "    <tr>\n",
       "      <th>0</th>\n",
       "      <td>1</td>\n",
       "      <td>294</td>\n",
       "      <td>SA</td>\n",
       "      <td>36</td>\n",
       "      <td>انثى</td>\n",
       "      <td>75</td>\n",
       "      <td>ملابس نسائي</td>\n",
       "      <td>4</td>\n",
       "    </tr>\n",
       "    <tr>\n",
       "      <th>1</th>\n",
       "      <td>2</td>\n",
       "      <td>736</td>\n",
       "      <td>JO</td>\n",
       "      <td>48</td>\n",
       "      <td>انثى</td>\n",
       "      <td>75</td>\n",
       "      <td>ملابس نسائي</td>\n",
       "      <td>4</td>\n",
       "    </tr>\n",
       "    <tr>\n",
       "      <th>2</th>\n",
       "      <td>3</td>\n",
       "      <td>435</td>\n",
       "      <td>KW</td>\n",
       "      <td>40</td>\n",
       "      <td>ذكر</td>\n",
       "      <td>78</td>\n",
       "      <td>إلكترونيات</td>\n",
       "      <td>8</td>\n",
       "    </tr>\n",
       "    <tr>\n",
       "      <th>3</th>\n",
       "      <td>5</td>\n",
       "      <td>86</td>\n",
       "      <td>JO</td>\n",
       "      <td>35</td>\n",
       "      <td>انثى</td>\n",
       "      <td>75</td>\n",
       "      <td>ملابس نسائي</td>\n",
       "      <td>4</td>\n",
       "    </tr>\n",
       "    <tr>\n",
       "      <th>4</th>\n",
       "      <td>6</td>\n",
       "      <td>245</td>\n",
       "      <td>BH</td>\n",
       "      <td>29</td>\n",
       "      <td>ذكر</td>\n",
       "      <td>74</td>\n",
       "      <td>ملابس رجالي</td>\n",
       "      <td>9</td>\n",
       "    </tr>\n",
       "    <tr>\n",
       "      <th>...</th>\n",
       "      <td>...</td>\n",
       "      <td>...</td>\n",
       "      <td>...</td>\n",
       "      <td>...</td>\n",
       "      <td>...</td>\n",
       "      <td>...</td>\n",
       "      <td>...</td>\n",
       "      <td>...</td>\n",
       "    </tr>\n",
       "    <tr>\n",
       "      <th>975</th>\n",
       "      <td>995</td>\n",
       "      <td>715</td>\n",
       "      <td>KW</td>\n",
       "      <td>44</td>\n",
       "      <td>انثى</td>\n",
       "      <td>75</td>\n",
       "      <td>ملابس نسائي</td>\n",
       "      <td>3</td>\n",
       "    </tr>\n",
       "    <tr>\n",
       "      <th>976</th>\n",
       "      <td>996</td>\n",
       "      <td>467</td>\n",
       "      <td>AE</td>\n",
       "      <td>26</td>\n",
       "      <td>انثى</td>\n",
       "      <td>75</td>\n",
       "      <td>ملابس نسائي</td>\n",
       "      <td>4</td>\n",
       "    </tr>\n",
       "    <tr>\n",
       "      <th>977</th>\n",
       "      <td>997</td>\n",
       "      <td>426</td>\n",
       "      <td>BH</td>\n",
       "      <td>54</td>\n",
       "      <td>انثى</td>\n",
       "      <td>75</td>\n",
       "      <td>ملابس نسائي</td>\n",
       "      <td>6</td>\n",
       "    </tr>\n",
       "    <tr>\n",
       "      <th>978</th>\n",
       "      <td>998</td>\n",
       "      <td>664</td>\n",
       "      <td>JO</td>\n",
       "      <td>43</td>\n",
       "      <td>ذكر</td>\n",
       "      <td>78</td>\n",
       "      <td>إلكترونيات</td>\n",
       "      <td>7</td>\n",
       "    </tr>\n",
       "    <tr>\n",
       "      <th>979</th>\n",
       "      <td>999</td>\n",
       "      <td>515</td>\n",
       "      <td>AE</td>\n",
       "      <td>18</td>\n",
       "      <td>ذكر</td>\n",
       "      <td>74</td>\n",
       "      <td>ملابس رجالي</td>\n",
       "      <td>8</td>\n",
       "    </tr>\n",
       "  </tbody>\n",
       "</table>\n",
       "<p>980 rows × 8 columns</p>\n",
       "</div>"
      ],
      "text/plain": [
       "    user_id customer_id country age gender term_id    term_name count_term_id\n",
       "0         1         294      SA  36   انثى      75  ملابس نسائي             4\n",
       "1         2         736      JO  48   انثى      75  ملابس نسائي             4\n",
       "2         3         435      KW  40    ذكر      78   إلكترونيات             8\n",
       "3         5          86      JO  35   انثى      75  ملابس نسائي             4\n",
       "4         6         245      BH  29    ذكر      74  ملابس رجالي             9\n",
       "..      ...         ...     ...  ..    ...     ...          ...           ...\n",
       "975     995         715      KW  44   انثى      75  ملابس نسائي             3\n",
       "976     996         467      AE  26   انثى      75  ملابس نسائي             4\n",
       "977     997         426      BH  54   انثى      75  ملابس نسائي             6\n",
       "978     998         664      JO  43    ذكر      78   إلكترونيات             7\n",
       "979     999         515      AE  18    ذكر      74  ملابس رجالي             8\n",
       "\n",
       "[980 rows x 8 columns]"
      ]
     },
     "execution_count": 7,
     "metadata": {},
     "output_type": "execute_result"
    }
   ],
   "source": [
    "df = construct_customers_data()\n",
    "df"
   ]
  },
  {
   "cell_type": "code",
   "execution_count": 8,
   "id": "49aeb7b6",
   "metadata": {},
   "outputs": [],
   "source": [
    "from sklearn.preprocessing import LabelEncoder\n",
    "\n",
    "country_LE = LabelEncoder()\n",
    "\n",
    "gender_LE = LabelEncoder()\n",
    "df['country'] = country_LE.fit_transform(df['country'])\n",
    "df['gender'] = gender_LE.fit_transform(df['gender'])\n",
    "\n",
    "X = df[['country','age','gender']]\n",
    "\n",
    "y = df['term_id']\n",
    "y = y.astype(int)"
   ]
  },
  {
   "cell_type": "code",
   "execution_count": 9,
   "id": "3f479b72",
   "metadata": {},
   "outputs": [
    {
     "data": {
      "image/png": "[encoded data removed]",
      "text/plain": [
       "<Figure size 640x480 with 1 Axes>"
      ]
     },
     "metadata": {},
     "output_type": "display_data"
    }
   ],
   "source": [
    "import matplotlib.pyplot as plt\n",
    "\n",
    "y_labels = df['term_name']\n",
    "\n",
    "import arabic_reshaper\n",
    "from bidi.algorithm import get_display\n",
    "\n",
    "count_values = y_labels.value_counts()\n",
    "\n",
    "labels = count_values.index.to_list()\n",
    "labels_A = []\n",
    "\n",
    "for item in labels:\n",
    "    labels_A.append(get_display(arabic_reshaper.reshape(item)))\n",
    "\n",
    "plt.title('Original classes distribution')\n",
    "\n",
    "plt.pie(x=count_values, labels=labels_A, autopct='%1.1f%%' )\n",
    "\n",
    "plt.show()"
   ]
  },
  {
   "cell_type": "code",
   "execution_count": 10,
   "id": "fb6f66bc",
   "metadata": {},
   "outputs": [
    {
     "name": "stdout",
     "output_type": "stream",
     "text": [
      "Class=75, n=382 (38.980%)\n",
      "Class=78, n=186 (18.980%)\n",
      "Class=74, n=264 (26.939%)\n",
      "Class=79, n=102 (10.408%)\n",
      "Class=76, n=43 (4.388%)\n",
      "Class=82, n=3 (0.306%)\n"
     ]
    }
   ],
   "source": [
    "from collections import Counter\n",
    "\n",
    "counter = Counter(y)\n",
    "for k,v in counter.items():\n",
    "    per = v / len(y) * 100\n",
    "    print('Class=%d, n=%d (%.3f%%)' % (k, v, per))"
   ]
  },
  {
   "cell_type": "code",
   "execution_count": 11,
   "id": "181e159d",
   "metadata": {},
   "outputs": [
    {
     "name": "stdout",
     "output_type": "stream",
     "text": [
      "Requirement already satisfied: imbalanced-learn in c:\\users\\eyad3\\anaconda3\\lib\\site-packages (0.10.1)\n",
      "Requirement already satisfied: scipy>=1.3.2 in c:\\users\\eyad3\\anaconda3\\lib\\site-packages (from imbalanced-learn) (1.9.3)\n",
      "Requirement already satisfied: scikit-learn>=1.0.2 in c:\\users\\eyad3\\anaconda3\\lib\\site-packages (from imbalanced-learn) (1.2.1)\n",
      "Requirement already satisfied: threadpoolctl>=2.0.0 in c:\\users\\eyad3\\anaconda3\\lib\\site-packages (from imbalanced-learn) (2.2.0)\n",
      "Requirement already satisfied: numpy>=1.17.3 in c:\\users\\eyad3\\anaconda3\\lib\\site-packages (from imbalanced-learn) (1.23.5)\n",
      "Requirement already satisfied: joblib>=1.1.1 in c:\\users\\eyad3\\anaconda3\\lib\\site-packages (from imbalanced-learn) (1.1.1)\n",
      "Note: you may need to restart the kernel to use updated packages.\n"
     ]
    },
    {
     "name": "stderr",
     "output_type": "stream",
     "text": [
      "WARNING: Ignoring invalid distribution -atplotlib (c:\\users\\eyad3\\anaconda3\\lib\\site-packages)\n",
      "WARNING: Ignoring invalid distribution -atplotlib (c:\\users\\eyad3\\anaconda3\\lib\\site-packages)\n",
      "WARNING: Ignoring invalid distribution -atplotlib (c:\\users\\eyad3\\anaconda3\\lib\\site-packages)\n",
      "WARNING: Ignoring invalid distribution -atplotlib (c:\\users\\eyad3\\anaconda3\\lib\\site-packages)\n",
      "WARNING: Ignoring invalid distribution -atplotlib (c:\\users\\eyad3\\anaconda3\\lib\\site-packages)\n",
      "WARNING: Ignoring invalid distribution -atplotlib (c:\\users\\eyad3\\anaconda3\\lib\\site-packages)\n"
     ]
    }
   ],
   "source": [
    "pip install imbalanced-learn"
   ]
  },
  {
   "cell_type": "code",
   "execution_count": 12,
   "id": "0f9f6f2d",
   "metadata": {},
   "outputs": [],
   "source": [
    "from imblearn.over_sampling import RandomOverSampler\n",
    "\n",
    "oversample = RandomOverSampler()\n",
    "\n",
    "X, y = oversample.fit_resample(X, y)"
   ]
  },
  {
   "cell_type": "code",
   "execution_count": 13,
   "id": "381c36bb",
   "metadata": {},
   "outputs": [
    {
     "name": "stdout",
     "output_type": "stream",
     "text": [
      "Class=75, n=382 (16.667%)\n",
      "Class=78, n=382 (16.667%)\n",
      "Class=74, n=382 (16.667%)\n",
      "Class=79, n=382 (16.667%)\n",
      "Class=76, n=382 (16.667%)\n",
      "Class=82, n=382 (16.667%)\n"
     ]
    }
   ],
   "source": [
    "counter = Counter(y)\n",
    "for k,v in counter.items():\n",
    "    per = v / len(y) * 100\n",
    "    print('Class=%d, n=%d (%.3f%%)' % (k, v, per))"
   ]
  },
  {
   "cell_type": "code",
   "execution_count": 14,
   "id": "79af961b",
   "metadata": {},
   "outputs": [
    {
     "name": "stdout",
     "output_type": "stream",
     "text": [
      "Accuracy DecisionTreeClassifier=  82.42\n",
      "Accuracy CategoricalNB =  71.34\n",
      "Accuracy KNeighborsClassifier =  70.47\n"
     ]
    }
   ],
   "source": [
    "from sklearn.model_selection import cross_val_score\n",
    "\n",
    "from sklearn.tree import DecisionTreeClassifier\n",
    "\n",
    "from sklearn.naive_bayes import CategoricalNB\n",
    "\n",
    "from sklearn.neighbors import KNeighborsClassifier\n",
    "\n",
    "\n",
    "model_DecisionTreeClassifier = DecisionTreeClassifier()\n",
    "model_CategoricalNB = CategoricalNB()\n",
    "model_KNeighborsClassifier = KNeighborsClassifier()\n",
    "\n",
    "scores_accuracy = cross_val_score(model_DecisionTreeClassifier, X, y, cv=10, scoring=\"accuracy\")\n",
    "\n",
    "meanScore = scores_accuracy.mean()\n",
    "print(\"Accuracy DecisionTreeClassifier= \", round(meanScore * 100,2))\n",
    "\n",
    "scores_accuracy = cross_val_score(model_CategoricalNB, X, y, cv=10, scoring=\"accuracy\")\n",
    "meanScore = scores_accuracy.mean()\n",
    "print(\"Accuracy CategoricalNB = \", round(meanScore * 100,2))\n",
    "\n",
    "scores_accuracy = cross_val_score(model_KNeighborsClassifier, X, y, cv=10, scoring=\"accuracy\")\n",
    "meanScore = scores_accuracy.mean()\n",
    "print(\"Accuracy KNeighborsClassifier = \", round(meanScore * 100,2))"
   ]
  },
  {
   "cell_type": "code",
   "execution_count": 15,
   "id": "cfd865fd",
   "metadata": {},
   "outputs": [
    {
     "data": {
      "text/html": [
       "<style>#sk-container-id-1 {color: black;background-color: white;}#sk-container-id-1 pre{padding: 0;}#sk-container-id-1 div.sk-toggleable {background-color: white;}#sk-container-id-1 label.sk-toggleable__label {cursor: pointer;display: block;width: 100%;margin-bottom: 0;padding: 0.3em;box-sizing: border-box;text-align: center;}#sk-container-id-1 label.sk-toggleable__label-arrow:before {content: \"▸\";float: left;margin-right: 0.25em;color: #696969;}#sk-container-id-1 label.sk-toggleable__label-arrow:hover:before {color: black;}#sk-container-id-1 div.sk-estimator:hover label.sk-toggleable__label-arrow:before {color: black;}#sk-container-id-1 div.sk-toggleable__content {max-height: 0;max-width: 0;overflow: hidden;text-align: left;background-color: #f0f8ff;}#sk-container-id-1 div.sk-toggleable__content pre {margin: 0.2em;color: black;border-radius: 0.25em;background-color: #f0f8ff;}#sk-container-id-1 input.sk-toggleable__control:checked~div.sk-toggleable__content {max-height: 200px;max-width: 100%;overflow: auto;}#sk-container-id-1 input.sk-toggleable__control:checked~label.sk-toggleable__label-arrow:before {content: \"▾\";}#sk-container-id-1 div.sk-estimator input.sk-toggleable__control:checked~label.sk-toggleable__label {background-color: #d4ebff;}#sk-container-id-1 div.sk-label input.sk-toggleable__control:checked~label.sk-toggleable__label {background-color: #d4ebff;}#sk-container-id-1 input.sk-hidden--visually {border: 0;clip: rect(1px 1px 1px 1px);clip: rect(1px, 1px, 1px, 1px);height: 1px;margin: -1px;overflow: hidden;padding: 0;position: absolute;width: 1px;}#sk-container-id-1 div.sk-estimator {font-family: monospace;background-color: #f0f8ff;border: 1px dotted black;border-radius: 0.25em;box-sizing: border-box;margin-bottom: 0.5em;}#sk-container-id-1 div.sk-estimator:hover {background-color: #d4ebff;}#sk-container-id-1 div.sk-parallel-item::after {content: \"\";width: 100%;border-bottom: 1px solid gray;flex-grow: 1;}#sk-container-id-1 div.sk-label:hover label.sk-toggleable__label {background-color: #d4ebff;}#sk-container-id-1 div.sk-serial::before {content: \"\";position: absolute;border-left: 1px solid gray;box-sizing: border-box;top: 0;bottom: 0;left: 50%;z-index: 0;}#sk-container-id-1 div.sk-serial {display: flex;flex-direction: column;align-items: center;background-color: white;padding-right: 0.2em;padding-left: 0.2em;position: relative;}#sk-container-id-1 div.sk-item {position: relative;z-index: 1;}#sk-container-id-1 div.sk-parallel {display: flex;align-items: stretch;justify-content: center;background-color: white;position: relative;}#sk-container-id-1 div.sk-item::before, #sk-container-id-1 div.sk-parallel-item::before {content: \"\";position: absolute;border-left: 1px solid gray;box-sizing: border-box;top: 0;bottom: 0;left: 50%;z-index: -1;}#sk-container-id-1 div.sk-parallel-item {display: flex;flex-direction: column;z-index: 1;position: relative;background-color: white;}#sk-container-id-1 div.sk-parallel-item:first-child::after {align-self: flex-end;width: 50%;}#sk-container-id-1 div.sk-parallel-item:last-child::after {align-self: flex-start;width: 50%;}#sk-container-id-1 div.sk-parallel-item:only-child::after {width: 0;}#sk-container-id-1 div.sk-dashed-wrapped {border: 1px dashed gray;margin: 0 0.4em 0.5em 0.4em;box-sizing: border-box;padding-bottom: 0.4em;background-color: white;}#sk-container-id-1 div.sk-label label {font-family: monospace;font-weight: bold;display: inline-block;line-height: 1.2em;}#sk-container-id-1 div.sk-label-container {text-align: center;}#sk-container-id-1 div.sk-container {/* jupyter's `normalize.less` sets `[hidden] { display: none; }` but bootstrap.min.css set `[hidden] { display: none !important; }` so we also need the `!important` here to be able to override the default hidden behavior on the sphinx rendered scikit-learn.org. See: https://github.com/scikit-learn/scikit-learn/issues/21755 */display: inline-block !important;position: relative;}#sk-container-id-1 div.sk-text-repr-fallback {display: none;}</style><div id=\"sk-container-id-1\" class=\"sk-top-container\"><div class=\"sk-text-repr-fallback\"><pre>DecisionTreeClassifier()</pre><b>In a Jupyter environment, please rerun this cell to show the HTML representation or trust the notebook. <br />On GitHub, the HTML representation is unable to render, please try loading this page with nbviewer.org.</b></div><div class=\"sk-container\" hidden><div class=\"sk-item\"><div class=\"sk-estimator sk-toggleable\"><input class=\"sk-toggleable__control sk-hidden--visually\" id=\"sk-estimator-id-1\" type=\"checkbox\" checked><label for=\"sk-estimator-id-1\" class=\"sk-toggleable__label sk-toggleable__label-arrow\">DecisionTreeClassifier</label><div class=\"sk-toggleable__content\"><pre>DecisionTreeClassifier()</pre></div></div></div></div></div>"
      ],
      "text/plain": [
       "DecisionTreeClassifier()"
      ]
     },
     "execution_count": 15,
     "metadata": {},
     "output_type": "execute_result"
    }
   ],
   "source": [
    "model = DecisionTreeClassifier()\n",
    "\n",
    "model.fit(X.values,y)"
   ]
  },
  {
   "cell_type": "code",
   "execution_count": 16,
   "id": "3bb537c4",
   "metadata": {},
   "outputs": [
    {
     "name": "stdout",
     "output_type": "stream",
     "text": [
      "[[0.  0.  0.5 0.  0.5 0. ]]\n",
      "[76]\n"
     ]
    }
   ],
   "source": [
    "country = 2\n",
    "age = 22\n",
    "gender = 0\n",
    "example = [[country,age,gender]]\n",
    "\n",
    "pred_proba = model.predict_proba(example)\n",
    "print(pred_proba)\n",
    "\n",
    "pred_class = model.predict(example)\n",
    "print(pred_class)"
   ]
  },
  {
   "cell_type": "code",
   "execution_count": 17,
   "id": "62b67c50",
   "metadata": {},
   "outputs": [],
   "source": [
    "import pickle\n",
    "\n",
    "filename = 'classification_model'\n",
    "pickle.dump(model, open(filename, 'wb'))"
   ]
  },
  {
   "cell_type": "code",
   "execution_count": 18,
   "id": "bfd9706b",
   "metadata": {},
   "outputs": [
    {
     "name": "stdout",
     "output_type": "stream",
     "text": [
      "76\n"
     ]
    }
   ],
   "source": [
    "loaded_model = pickle.load(open(filename, 'rb'))\n",
    "\n",
    "result = loaded_model.predict(example)\n",
    "print(result[0])"
   ]
  },
  {
   "cell_type": "code",
   "execution_count": 19,
   "id": "d0d4f825",
   "metadata": {},
   "outputs": [],
   "source": [
    "def get_category_code(filename, country, age, gender):\n",
    "   \n",
    "    import pickle\n",
    "    \n",
    "    loaded_model = pickle.load(open(filename, 'rb'))\n",
    "    \n",
    "    example=[country,age,gender]\n",
    "\n",
    "    result = loaded_model.predict([example])\n",
    "    \n",
    "    return result[0]"
   ]
  },
  {
   "cell_type": "code",
   "execution_count": 20,
   "id": "9e4a22d8",
   "metadata": {},
   "outputs": [
    {
     "data": {
      "text/plain": [
       "74"
      ]
     },
     "execution_count": 20,
     "metadata": {},
     "output_type": "execute_result"
    }
   ],
   "source": [
    "get_category_code('classification_model',1 , 22, 1)"
   ]
  },
  {
   "cell_type": "code",
   "execution_count": 21,
   "id": "ccf933f0",
   "metadata": {},
   "outputs": [
    {
     "name": "stdout",
     "output_type": "stream",
     "text": [
      "Requirement already satisfied: m2cgen in c:\\users\\eyad3\\anaconda3\\lib\\site-packages (0.10.0)\n",
      "Requirement already satisfied: numpy in c:\\users\\eyad3\\anaconda3\\lib\\site-packages (from m2cgen) (1.23.5)\n",
      "Note: you may need to restart the kernel to use updated packages.\n"
     ]
    },
    {
     "name": "stderr",
     "output_type": "stream",
     "text": [
      "WARNING: Ignoring invalid distribution -atplotlib (c:\\users\\eyad3\\anaconda3\\lib\\site-packages)\n",
      "WARNING: Ignoring invalid distribution -atplotlib (c:\\users\\eyad3\\anaconda3\\lib\\site-packages)\n",
      "WARNING: Ignoring invalid distribution -atplotlib (c:\\users\\eyad3\\anaconda3\\lib\\site-packages)\n",
      "WARNING: Ignoring invalid distribution -atplotlib (c:\\users\\eyad3\\anaconda3\\lib\\site-packages)\n",
      "WARNING: Ignoring invalid distribution -atplotlib (c:\\users\\eyad3\\anaconda3\\lib\\site-packages)\n",
      "WARNING: Ignoring invalid distribution -atplotlib (c:\\users\\eyad3\\anaconda3\\lib\\site-packages)\n"
     ]
    }
   ],
   "source": [
    "pip install m2cgen"
   ]
  },
  {
   "cell_type": "code",
   "execution_count": 22,
   "id": "0f88537e",
   "metadata": {},
   "outputs": [],
   "source": [
    "import m2cgen as m2c \n",
    "\n",
    "model_to_php = m2c.export_to_php(model)  \n",
    "\n",
    "f = open(\"predict_category.php\", \"w\")\n",
    "\n",
    "f.write(model_to_php)\n",
    "\n",
    "f.close()"
   ]
  },
  {
   "cell_type": "code",
   "execution_count": 23,
   "id": "d4a5e8d1",
   "metadata": {},
   "outputs": [],
   "source": [
    "cursor = connection_mydb.cursor(dictionary=True)\n",
    "sql = '''DROP TABLE IF EXISTS custom_country_codes'''\n",
    "cursor.execute(sql)\n",
    "sql = '''\n",
    "        CREATE TABLE custom_country_codes (\n",
    "        ID int(11) NOT NULL AUTO_INCREMENT,\n",
    "        code int(11) NOT NULL,\n",
    "        country char(2) NOT NULL, PRIMARY KEY (ID))ENGINE=InnoDB DEFAULT CHARSET=utf8mb4;\n",
    "      '''\n",
    "cursor.execute(sql)\n",
    "connection_mydb.commit()\n",
    "\n",
    "for country in country_LE.classes_:\n",
    "    code = country_LE.transform([country])[0]\n",
    "    sql = \"INSERT INTO custom_country_codes (code, country) VALUES (%s, %s)\"\n",
    "    code = int(code)\n",
    "    val = (code, country)\n",
    "    cursor.execute(sql, val)\n",
    "    connection_mydb.commit()"
   ]
  },
  {
   "cell_type": "code",
   "execution_count": 24,
   "id": "28b5b060",
   "metadata": {},
   "outputs": [],
   "source": [
    "cursor = connection_mydb.cursor(dictionary=True)\n",
    "sql = '''DROP TABLE IF EXISTS custom_gender_codes'''\n",
    "cursor.execute(sql)\n",
    "\n",
    "sql = '''\n",
    "        CREATE TABLE custom_gender_codes (\n",
    "        ID int(11) NOT NULL AUTO_INCREMENT,\n",
    "        code int(11) NOT NULL,\n",
    "        gender char(10) NOT NULL, PRIMARY KEY (ID))ENGINE=InnoDB DEFAULT CHARSET=utf8mb4;\n",
    "      '''\n",
    "cursor.execute(sql)\n",
    "connection_mydb.commit()\n",
    "\n",
    "for gender in gender_LE.classes_:\n",
    "    code=gender_LE.transform([gender])[0]\n",
    "    sql = \"INSERT INTO custom_gender_codes (code, gender) VALUES (%s, %s)\"\n",
    "    code = int(code)\n",
    "    val = (code, gender)\n",
    "    cursor.execute(sql, val)\n",
    "    connection_mydb.commit()"
   ]
  },
  {
   "cell_type": "code",
   "execution_count": 25,
   "id": "29d337b2",
   "metadata": {},
   "outputs": [],
   "source": [
    "def category_best_seller_products(category_id, n=3):\n",
    "    cursor = connection_mydb.cursor(dictionary=True)\n",
    "    \n",
    "    sql = '''SELECT wp_term_taxonomy.term_id,\n",
    "                  wp_wc_order_product_lookup.product_id,  \n",
    "                  sum(wp_wc_order_product_lookup.product_qty) as sumsales\n",
    "                  FROM wp_wc_order_product_lookup \n",
    "                  INNER JOIN wp_term_relationships  ON wp_term_relationships.object_id=wp_wc_order_product_lookup.product_id\n",
    "                  INNER JOIN wp_term_taxonomy ON wp_term_relationships.term_taxonomy_id = wp_term_taxonomy.term_taxonomy_id\n",
    "                  WHERE wp_term_taxonomy.taxonomy ='product_cat'   and \n",
    "                  wp_term_taxonomy.term_id=(%s)\n",
    "                  group by wp_term_taxonomy.term_id,wp_wc_order_product_lookup.product_id\n",
    "                  order by sumsales DESC\n",
    "          '''\n",
    "\n",
    "    param = (category_id, )\n",
    "    \n",
    "    cursor.execute(sql,param)\n",
    "    results = cursor.fetchall()\n",
    "    products_ids = []\n",
    "    if results != None:\n",
    "        i=0\n",
    "        while i < n and i < len(results):\n",
    "            product_id = results[i]['product_id']\n",
    "            products_ids.append(product_id)\n",
    "            i = i+1\n",
    "    return products_ids"
   ]
  },
  {
   "cell_type": "code",
   "execution_count": 26,
   "id": "54e42a69",
   "metadata": {},
   "outputs": [
    {
     "data": {
      "text/plain": [
       "[56238, 56217, 56228]"
      ]
     },
     "execution_count": 26,
     "metadata": {},
     "output_type": "execute_result"
    }
   ],
   "source": [
    "category_best_seller_products(78, 3)"
   ]
  },
  {
   "cell_type": "code",
   "execution_count": 27,
   "id": "db757757",
   "metadata": {},
   "outputs": [],
   "source": [
    "def get_product_name(product_id):\n",
    "     \n",
    "    cursor = connection_mydb.cursor(dictionary=True)\n",
    "    sql = \"SELECT post_title FROM wp_posts WHERE ID=(%s)\"\n",
    "    id = (product_id,)\n",
    "    \n",
    "    cursor.execute(sql,id)\n",
    "    \n",
    "    results = cursor.fetchall()\n",
    "    if len(results)>0:\n",
    "        return results[0]['post_title']  \n",
    "    \n",
    "    return \"Unknown Product\""
   ]
  },
  {
   "cell_type": "code",
   "execution_count": 28,
   "id": "0691546d",
   "metadata": {},
   "outputs": [],
   "source": [
    "def get_gender_code(gender):\n",
    "    cursor = connection_mydb.cursor(dictionary=True)\n",
    "    \n",
    "    sql = \"SELECT code FROM custom_gender_codes  WHERE gender=(%s) \"\n",
    "    param = (gender, )\n",
    "    cursor.execute(sql, param)\n",
    "    result = cursor.fetchall()\n",
    "    if result != None and len(result) > 0:\n",
    "        return result[0]['code']\n",
    "    else:\n",
    "        0"
   ]
  },
  {
   "cell_type": "code",
   "execution_count": 29,
   "id": "166ca9d4",
   "metadata": {},
   "outputs": [],
   "source": [
    "def get_country_code(country):\n",
    "    cursor = connection_mydb.cursor(dictionary=True)\n",
    "    \n",
    "    sql = \"SELECT code FROM custom_country_codes  WHERE country=(%s) \"\n",
    "    param = (country, )\n",
    "    cursor.execute(sql, param)\n",
    "    result = cursor.fetchall()\n",
    "    if result != None and len(result) > 0:\n",
    "        return result[0]['code']\n",
    "    else:\n",
    "        0"
   ]
  },
  {
   "cell_type": "code",
   "execution_count": 30,
   "id": "53b50f48",
   "metadata": {},
   "outputs": [],
   "source": [
    "def get_customer_products(customer_id, n=3):\n",
    "        cursor = connection_mydb.cursor(dictionary=True)\n",
    "        user_id = 0\n",
    "        \n",
    "        sql = \"SELECT user_id FROM wp_wc_customer_lookup  WHERE customer_id=(%s) \"\n",
    "        param = (customer_id, )\n",
    "        cursor.execute(sql, param)\n",
    "        result = cursor.fetchall()\n",
    "        if result!=None and len(result) > 0:\n",
    "            user_id=result[0]['user_id']  \n",
    "       \n",
    "        country=\"\"\n",
    "        sql = \"SELECT meta_value FROM wp_usermeta  WHERE user_id=(%s) and meta_key='country'\"\n",
    "        param = (user_id, )\n",
    "        cursor.execute(sql, param)\n",
    "        result = cursor.fetchall()\n",
    "        if result!=None and len(result) > 0:\n",
    "            country=result[0]['meta_value']\n",
    "        \n",
    "        country_code=get_country_code(country)\n",
    " \n",
    "        age = 0\n",
    "        sql = \"SELECT meta_value FROM wp_usermeta  WHERE user_id=(%s) and meta_key='age'\"\n",
    "        param = (user_id, )\n",
    "        cursor.execute(sql, param)\n",
    "        result = cursor.fetchall()\n",
    "        if result != None and len(result)>0:\n",
    "            age=int(result[0]['meta_value'])\n",
    "\n",
    "        gender=\"\"\n",
    "        sql = \"SELECT meta_value FROM wp_usermeta  WHERE user_id=(%s) and meta_key='gender'\"\n",
    "        param = (user_id, )\n",
    "        cursor.execute(sql, param)\n",
    "        result = cursor.fetchall()\n",
    "        if result != None and len(result)>0:\n",
    "            gender = result[0]['meta_value']\n",
    "            \n",
    "        gender_code=get_gender_code(gender)\n",
    "        \n",
    "        category_code = get_category_code('classification_model', country_code, age, gender_code)\n",
    "        \n",
    "        products_ids = category_best_seller_products(int(category_code), n)\n",
    "        \n",
    "        products = []\n",
    "        for id in products_ids:\n",
    "            product=get_product_name(id)\n",
    "            products.append(product)\n",
    "        \n",
    "        return products"
   ]
  },
  {
   "cell_type": "code",
   "execution_count": 31,
   "id": "f3b6f20a",
   "metadata": {},
   "outputs": [
    {
     "data": {
      "text/plain": [
       "['فرن-أبيض-LG', 'غسالة-أسود-SAMSUNG', 'غسالة-أسود-LG']"
      ]
     },
     "execution_count": 31,
     "metadata": {},
     "output_type": "execute_result"
    }
   ],
   "source": [
    "get_customer_products(1)"
   ]
  }
 ],
 "metadata": {
  "kernelspec": {
   "display_name": "Python 3 (ipykernel)",
   "language": "python",
   "name": "python3"
  },
  "language_info": {
   "codemirror_mode": {
    "name": "ipython",
    "version": 3
   },
   "file_extension": ".py",
   "mimetype": "text/x-python",
   "name": "python",
   "nbconvert_exporter": "python",
   "pygments_lexer": "ipython3",
   "version": "3.10.9"
  }
 },
 "nbformat": 4,
 "nbformat_minor": 5
}
